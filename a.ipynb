{
 "cells": [
  {
   "cell_type": "code",
   "execution_count": 3,
   "metadata": {},
   "outputs": [
    {
     "name": "stdout",
     "output_type": "stream",
     "text": [
      "   Course  Fees  Complexity\n",
      "0    DBMS  4000          90\n",
      "1  Python  6000          92\n",
      "2    DBMS  4500          89\n",
      "3    JAVA  3000          91\n",
      "        Fees\n",
      "Course      \n",
      "DBMS    4000\n",
      "JAVA    3000\n",
      "Python  6000\n",
      "Pivot: Course    DBMS    JAVA  Python\n",
      "0       4000.0     NaN     NaN\n",
      "1          NaN     NaN  6000.0\n",
      "2       4500.0     NaN     NaN\n",
      "3          NaN  3000.0     NaN\n"
     ]
    }
   ],
   "source": [
    "import pandas as pd\n",
    "df=pd.DataFrame({\n",
    "    'Course':['DBMS','Python','DBMS','JAVA'],\n",
    "    'Fees':[4000,6000,4500,3000],\n",
    "    'Complexity':[90,92,89,91]\n",
    "})\n",
    "print(df)\n",
    "c=df.groupby('Course').agg({'Fees':'min' })\n",
    "print(c)\n",
    "d=df.pivot(values='Fees',columns='Course')\n",
    "print('Pivot:',d)"
   ]
  }
 ],
 "metadata": {
  "kernelspec": {
   "display_name": "Python 3",
   "language": "python",
   "name": "python3"
  },
  "language_info": {
   "codemirror_mode": {
    "name": "ipython",
    "version": 3
   },
   "file_extension": ".py",
   "mimetype": "text/x-python",
   "name": "python",
   "nbconvert_exporter": "python",
   "pygments_lexer": "ipython3",
   "version": "3.11.4"
  }
 },
 "nbformat": 4,
 "nbformat_minor": 2
}
